{
 "cells": [
  {
   "cell_type": "code",
   "execution_count": 1,
   "metadata": {},
   "outputs": [],
   "source": [
    "import csv\n",
    "from itertools import cycle\n",
    "import json\n",
    "import requests\n",
    "\n"
   ]
  },
  {
   "cell_type": "code",
   "execution_count": 8,
   "metadata": {},
   "outputs": [
    {
     "name": "stdout",
     "output_type": "stream",
     "text": [
      "﻿Periodo;ID RRHH;Rut;Rut_DV;Nombre Colaborador;Fecha de Nacimiento;ROL;Código Cargo;Descripcion Cargo;Agrupacion Cargo;Tipo de Contrato;Jefe Directo ;Jefe Indirecto ;VP;Área;Fecha Ingreso;Marca Actual;\"Lugar Trabaj\n",
      "['\\xef\\xbb\\xbfPeriodo;ID RRHH;Rut;Rut_DV;Nombre Colaborador;Fecha de Nacimiento;ROL;C\\xc3\\xb3digo Cargo;Descripcion Cargo;Agrupacion Cargo;Tipo de Contrato;Jefe Directo ;Jefe Indirecto ;VP;\\xc3\\x81rea;Fecha Ingreso;Marca Actual;\"Lugar Trabaj']\n",
      "Actual\";Nombre Lugar Trabajo;\"Lugar Trabajo An\n",
      "['Actual\";Nombre Lugar Trabajo;\"Lugar Trabajo An']\n"
     ]
    },
    {
     "ename": "Error",
     "evalue": "field larger than field limit (131072)",
     "output_type": "error",
     "traceback": [
      "\u001b[0;31m---------------------------------------------------------------------------\u001b[0m",
      "\u001b[0;31mError\u001b[0m                                     Traceback (most recent call last)",
      "\u001b[0;32m<ipython-input-8-3c633620466b>\u001b[0m in \u001b[0;36m<module>\u001b[0;34m()\u001b[0m\n\u001b[1;32m      7\u001b[0m \u001b[0;32mwith\u001b[0m \u001b[0mopen\u001b[0m\u001b[0;34m(\u001b[0m\u001b[0;34m'DOTACION.csv'\u001b[0m\u001b[0;34m)\u001b[0m \u001b[0;32mas\u001b[0m \u001b[0mFile\u001b[0m\u001b[0;34m:\u001b[0m\u001b[0;34m\u001b[0m\u001b[0m\n\u001b[1;32m      8\u001b[0m     \u001b[0mreader\u001b[0m \u001b[0;34m=\u001b[0m \u001b[0mcsv\u001b[0m\u001b[0;34m.\u001b[0m\u001b[0mreader\u001b[0m\u001b[0;34m(\u001b[0m\u001b[0mFile\u001b[0m\u001b[0;34m)\u001b[0m\u001b[0;34m\u001b[0m\u001b[0m\n\u001b[0;32m----> 9\u001b[0;31m     \u001b[0;32mfor\u001b[0m \u001b[0mrow\u001b[0m \u001b[0;32min\u001b[0m \u001b[0mreader\u001b[0m\u001b[0;34m:\u001b[0m\u001b[0;34m\u001b[0m\u001b[0m\n\u001b[0m\u001b[1;32m     10\u001b[0m         \u001b[0;31m#print(row[len(row[0])-2])\u001b[0m\u001b[0;34m\u001b[0m\u001b[0;34m\u001b[0m\u001b[0m\n\u001b[1;32m     11\u001b[0m         \u001b[0;31m#rut = row[0][:len(row[0])-3]\u001b[0m\u001b[0;34m\u001b[0m\u001b[0;34m\u001b[0m\u001b[0m\n",
      "\u001b[0;31mError\u001b[0m: field larger than field limit (131072)"
     ]
    }
   ],
   "source": [
    "nuevo=list()\n",
    "lista = list()\n",
    "\n",
    "USER_AGENT = {'User-Agent':'Mozilla/5.0 (Windows NT 10.0; Win64; x64) AppleWebKit/537.36 (KHTML, like Gecko) Chrome/61.0.3163.100 Safari/537.36'}\n",
    "\n",
    " \n",
    "with open('DOTACION.csv') as File:  \n",
    "    reader = csv.reader(File)\n",
    "    for row in reader:\n",
    "        #print(row[len(row[0])-2])\n",
    "        #rut = row[0][:len(row[0])-3]\n",
    "        rut = row[0][:-1]\n",
    "        print(rut)\n",
    "\n",
    "        response = requests.get(\"https://api.rutify.cl/rut/\" + (rut))\n",
    "        a = response.content.decode('utf-8')\n",
    "        python = json.loads(a)\n",
    "#         print(python)\n",
    "\n",
    "        try:\n",
    "            b=[python['rut'] +', ' + python['servel']['domicilio electoral'] + ', ' + python['servel']['comuna'] + ', ' + python['servel']['provincia'] +', ' + python['servel']['pais'] +', ' + python['servel']['pais'] +', ' + python['nombre'] +', ' + str(python['sexo'])]\n",
    "            c=python['servel']['domicilio electoral'] + ', ' + python['servel']['provincia'] + ', ' + python['servel']['pais']\n",
    "            \n",
    "            def get_lat_lng(address_string):\n",
    "\n",
    "                url1=\"https://maps.googleapis.com/maps/api/geocode/json?address=%s\" % (address_string)\n",
    "                response = requests.get(url1, headers=USER_AGENT).json()\n",
    "                result_list = list()\n",
    "                for result in response['results']:\n",
    "                    formatted_address = result['formatted_address']\n",
    "                    lat = result['geometry']['location']['lat']\n",
    "                    lng = result['geometry']['location']['lng']\n",
    "                    result_list.append((formatted_address,lat,lng))\n",
    "\n",
    "                return result_list\n",
    "\n",
    "                get_lat_lng(c)\n",
    "                \n",
    "            lista.append(b)\n",
    "            b = b + get_lat_lng(c)\n",
    "            print(b + get_lat_lng(c))\n",
    "\n",
    "        except:\n",
    "            b =[rut]\n",
    "            print(b)\n",
    "            nuevo.append(b)"
   ]
  },
  {
   "cell_type": "code",
   "execution_count": null,
   "metadata": {},
   "outputs": [],
   "source": [
    "i = 0      \n",
    "\n",
    "with open('ejemplorut.csv', 'w', encoding='utf-8') as csvfile:\n",
    "    writer = csv.writer(csvfile)\n",
    "    while i <len(nuevo) :\n",
    "        writer.writerow(nuevo[i])\n",
    "        print(nuevo[i])\n",
    "        i+=1\n",
    "\n",
    " "
   ]
  }
 ],
 "metadata": {
  "kernelspec": {
   "display_name": "Python 2",
   "language": "python",
   "name": "python2"
  },
  "language_info": {
   "codemirror_mode": {
    "name": "ipython",
    "version": 2
   },
   "file_extension": ".py",
   "mimetype": "text/x-python",
   "name": "python",
   "nbconvert_exporter": "python",
   "pygments_lexer": "ipython2",
   "version": "2.7.6"
  }
 },
 "nbformat": 4,
 "nbformat_minor": 2
}
